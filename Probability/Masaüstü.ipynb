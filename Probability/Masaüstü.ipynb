{
 "cells": [
  {
   "cell_type": "code",
   "execution_count": 267,
   "metadata": {},
   "outputs": [],
   "source": [
    "import numpy as np\n",
    "import matplotlib.pyplot as plt"
   ]
  },
  {
   "cell_type": "markdown",
   "metadata": {},
   "source": [
    "## Poisson Dağılımı Class Yapısı"
   ]
  },
  {
   "cell_type": "code",
   "execution_count": 268,
   "metadata": {},
   "outputs": [],
   "source": [
    "class poisson_dist:\n",
    "    \n",
    "    # Poisson Olasılık hesabı için yardımcı metod\n",
    "    def factorial(self, number):\n",
    "        self.sum = 1\n",
    "        if number == 0:\n",
    "            return 1\n",
    "        for k in range(1, number+1):\n",
    "            self.sum *= k\n",
    "        return self.sum\n",
    "    \n",
    "     # Verilen ortalama (mu) ve istenen (k:başarı sayısı ) için poisson değeri hesaplaması\n",
    "    def poisson_value(self, mu, k):\n",
    "        return np.e**-mu * mu**k / self.factorial(k)\n",
    "    \n",
    "    # 0 - k değerleri arasında Olasılık kütle fonksiyonu hesaplaması\n",
    "    def poisson_pmf(self, mu, k):\n",
    "        self.pmf = []\n",
    "        for i in range(k+1):\n",
    "            self.pmf.append(self.poisson_value(mu, i))\n",
    "        return self.pmf\n",
    "    \n",
    "    #0 - k değerleri arasında birikimli dağılım fonksiyonu hesaplaması\n",
    "    def poisson_cdf(self, mu, k):\n",
    "        prob_sum = 0\n",
    "        self.cdf = []\n",
    "        for i in range(k+1):\n",
    "            if prob_sum <= 1:\n",
    "                prob_sum += self.poisson_value(mu, i)\n",
    "            else:\n",
    "                prob_sum = 0\n",
    "            self.cdf.append(prob_sum)\n",
    "        return self.cdf\n",
    "    \n",
    "    # Poisson Ortalama değer hesaplama\n",
    "    def mean(self, mu, k):\n",
    "        _sum = 0\n",
    "        _mean = 0\n",
    "        i = 0\n",
    "        while (1):\n",
    "            _sum += self.poisson_value(mu, i)\n",
    "            _mean += i*self.poisson_value(mu, i)\n",
    "            if _sum >=1:\n",
    "                break\n",
    "            i+=1\n",
    "        return _mean\n",
    "    \n",
    "    # Poisson Varyans hesaplama\n",
    "    def variance(self, mu, k):\n",
    "        _sum = 0\n",
    "        _mean= 0\n",
    "        _meanSquare = 0\n",
    "        i = 0\n",
    "        while (1):\n",
    "            _sum += self.poisson_value(mu, i)\n",
    "            _mean += i*self.poisson_value(mu, i)\n",
    "            _meanSquare += i**2*self.poisson_value(mu, i)\n",
    "            if _sum >=1:\n",
    "                break\n",
    "            i+=1\n",
    "        _variance = _meanSquare - _mean**2\n",
    "        return _variance\n",
    "        \n",
    "    # 0 - k aralığında olasılık kütle fonksiyonu ve birikimli dağılım fonksiyonu grafik çizimi\n",
    "    def poisson_graph(self,mu, k):\n",
    "        fig, (ax1, ax2) = plt.subplots(1,2, figsize = (12,4))\n",
    "        ax1.bar(range(k+1), self.poisson_pmf(mu,k), color = \"black\", label = r\"$\\lambda$ = {}\".format(mu))\n",
    "        ax2.bar(range(k+1), self.poisson_cdf(mu,k), color = \"red\", label = r\"$\\lambda$ = {}\".format(mu))\n",
    "        \n",
    "        ax1.set_title(\"Olasılık Kütle Fonksiyonu\", fontweight = \"bold\")\n",
    "        ax1.set_ylabel(\"P(X = i)\", fontweight = \"bold\")\n",
    "        ax1.set_xlabel(\"i\", fontweight = \"bold\")\n",
    "        ax1.legend()\n",
    "        \n",
    "        ax2.set_title(\"Birikimli Dağılım Fonksiyonu\", fontweight = \"bold\")\n",
    "        ax2.set_ylabel(r\"$\\sum_{i=0}^{\\infty}p(i)$\", fontweight = \"bold\", fontsize = 12)\n",
    "        ax2.set_xlabel(\"i\", fontweight = \"bold\")\n",
    "        ax2.legend()"
   ]
  },
  {
   "cell_type": "markdown",
   "metadata": {},
   "source": [
    "## Türkiyedeki havacılık kazaları için poisson hesaplamaları"
   ]
  },
  {
   "cell_type": "code",
   "execution_count": 276,
   "metadata": {},
   "outputs": [],
   "source": [
    "model1 = poisson_dist() "
   ]
  },
  {
   "cell_type": "code",
   "execution_count": 278,
   "metadata": {},
   "outputs": [
    {
     "data": {
      "text/plain": [
       "0.36787944117144233"
      ]
     },
     "execution_count": 278,
     "metadata": {},
     "output_type": "execute_result"
    }
   ],
   "source": [
    "model1.poisson_value(mu = 1, k = 0) # Hiç uçak kazası olmama ihtimali"
   ]
  },
  {
   "cell_type": "code",
   "execution_count": 275,
   "metadata": {},
   "outputs": [
    {
     "data": {
      "text/plain": [
       "0.36787944117144233"
      ]
     },
     "execution_count": 275,
     "metadata": {},
     "output_type": "execute_result"
    }
   ],
   "source": [
    "model1.poisson_value(mu = 1, k = 1) # 1 uçak kazası olma ihtimali"
   ]
  },
  {
   "cell_type": "code",
   "execution_count": 273,
   "metadata": {},
   "outputs": [
    {
     "data": {
      "text/plain": [
       "0.18393972058572117"
      ]
     },
     "execution_count": 273,
     "metadata": {},
     "output_type": "execute_result"
    }
   ],
   "source": [
    "model1.poisson_value(mu = 1, k = 2) # 2 uçak kazası olma ihtimali"
   ]
  },
  {
   "cell_type": "code",
   "execution_count": 313,
   "metadata": {},
   "outputs": [
    {
     "data": {
      "text/plain": [
       "0.9999999999999999"
      ]
     },
     "execution_count": 313,
     "metadata": {},
     "output_type": "execute_result"
    }
   ],
   "source": [
    "model1.mean(mu = 1, k = 2) # Ortalama Değer "
   ]
  },
  {
   "cell_type": "code",
   "execution_count": 314,
   "metadata": {},
   "outputs": [
    {
     "data": {
      "text/plain": [
       "0.9999999999999991"
      ]
     },
     "execution_count": 314,
     "metadata": {},
     "output_type": "execute_result"
    }
   ],
   "source": [
    "model1.variance(mu = 1, k = 2) # Varyans"
   ]
  },
  {
   "cell_type": "code",
   "execution_count": 279,
   "metadata": {},
   "outputs": [
    {
     "data": {
      "text/plain": [
       "[0.36787944117144233,\n",
       " 0.36787944117144233,\n",
       " 0.18393972058572117,\n",
       " 0.06131324019524039,\n",
       " 0.015328310048810098,\n",
       " 0.0030656620097620196]"
      ]
     },
     "execution_count": 279,
     "metadata": {},
     "output_type": "execute_result"
    }
   ],
   "source": [
    "model1.poisson_pmf(mu = 1, k = 5) # k = 0 - 5 aralığında olasılık kütle fonksiyonu"
   ]
  },
  {
   "cell_type": "code",
   "execution_count": 280,
   "metadata": {},
   "outputs": [
    {
     "data": {
      "text/plain": [
       "[0.36787944117144233,\n",
       " 0.7357588823428847,\n",
       " 0.9196986029286058,\n",
       " 0.9810118431238463,\n",
       " 0.9963401531726563,\n",
       " 0.9994058151824183]"
      ]
     },
     "execution_count": 280,
     "metadata": {},
     "output_type": "execute_result"
    }
   ],
   "source": [
    "model1.poisson_cdf(mu = 1, k = 5) # k = 0 - 5 aralığında birikimli dağılım fonksiyonu"
   ]
  },
  {
   "cell_type": "code",
   "execution_count": 281,
   "metadata": {},
   "outputs": [
    {
     "data": {
      "image/png": "[encoded data removed]",
      "text/plain": [
       "<Figure size 864x288 with 2 Axes>"
      ]
     },
     "metadata": {
      "needs_background": "light"
     },
     "output_type": "display_data"
    }
   ],
   "source": [
    "model1.poisson_graph(mu = 1, k = 5)"
   ]
  },
  {
   "cell_type": "markdown",
   "metadata": {},
   "source": [
    "## Poisson Dağılımı - Binomial Dağılım İlişkisi"
   ]
  },
  {
   "cell_type": "markdown",
   "metadata": {},
   "source": [
    "### Binomial Dağılım Hesaplanması için Kod Yapısı"
   ]
  },
  {
   "cell_type": "code",
   "execution_count": null,
   "metadata": {},
   "outputs": [],
   "source": [
    "def Combination(n,r):\n",
    "    numerator = 1\n",
    "    denominator = 1\n",
    "    for i in range(n-r+1,n+1):\n",
    "        numerator *=i\n",
    "        \n",
    "    for i in range(1,r+1):\n",
    "        denominator *=i\n",
    "\n",
    "    return (numerator/ denominator)\n",
    "\n",
    "def binomial(n, x, p):\n",
    "    # n: deneme sayisi, x: başarı sayısı p: başarı olasılığı\n",
    "    \n",
    "    return Combination(n,x)*p**x*(1-p)**(n-x)"
   ]
  },
  {
   "cell_type": "code",
   "execution_count": 289,
   "metadata": {},
   "outputs": [],
   "source": [
    "n = np.arange(10,1000)\n",
    "p = 0.005\n",
    "x = 6\n",
    "poisson_mu_value = n*p"
   ]
  },
  {
   "cell_type": "code",
   "execution_count": 294,
   "metadata": {},
   "outputs": [],
   "source": [
    "binom_values = []\n",
    "for k in n:\n",
    "    binom_values.append(binomial(k,x,p))"
   ]
  },
  {
   "cell_type": "code",
   "execution_count": 297,
   "metadata": {},
   "outputs": [],
   "source": [
    "poisson_values = []\n",
    "model2 = poisson_dist()\n",
    "for j in poisson_mu_value:\n",
    "    poisson_values.append(model2.poisson_value(mu = j, k = x  ))"
   ]
  },
  {
   "cell_type": "code",
   "execution_count": 312,
   "metadata": {},
   "outputs": [
    {
     "data": {
      "text/plain": [
       "<matplotlib.legend.Legend at 0x61e470b08>"
      ]
     },
     "execution_count": 312,
     "metadata": {},
     "output_type": "execute_result"
    },
    {
     "data": {
      "image/png": "[encoded data removed]",
      "text/plain": [
       "<Figure size 864x360 with 1 Axes>"
      ]
     },
     "metadata": {
      "needs_background": "light"
     },
     "output_type": "display_data"
    }
   ],
   "source": [
    "fig, ax = plt.subplots(figsize = (12,5))\n",
    "ax.plot(binom_values, linewidth =12, label = \"BINOMIAL\")\n",
    "ax.plot(poisson_values, \"--r\", label = \"POISSON\")\n",
    "ax.set_title(\"Poisson - Binom Karşılaştırmalı Değerler\", fontsize = \"15\")\n",
    "ax.set_ylabel(\"P(X = i)\", fontweight = \"bold\")\n",
    "ax.set_xlabel(\"i\", fontweight = \"bold\")\n",
    "ax.legend()"
   ]
  },
  {
   "cell_type": "code",
   "execution_count": null,
   "metadata": {},
   "outputs": [],
   "source": []
  }
 ],
 "metadata": {
  "kernelspec": {
   "display_name": "Python 3",
   "language": "python",
   "name": "python3"
  },
  "language_info": {
   "codemirror_mode": {
    "name": "ipython",
    "version": 3
   },
   "file_extension": ".py",
   "mimetype": "text/x-python",
   "name": "python",
   "nbconvert_exporter": "python",
   "pygments_lexer": "ipython3",
   "version": "3.7.6"
  }
 },
 "nbformat": 4,
 "nbformat_minor": 5
}
